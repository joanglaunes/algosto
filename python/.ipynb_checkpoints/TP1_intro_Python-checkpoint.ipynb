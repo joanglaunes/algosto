{
 "cells": [
  {
   "cell_type": "markdown",
   "metadata": {},
   "source": [
    "# Python – travaux pratiques"
   ]
  },
  {
   "cell_type": "markdown",
   "metadata": {},
   "source": [
    "## Démarrage\n",
    "1. Dans un terminal, créer un répertoire de travail (par exemple : mkdir tp_python) et s’y placer (cd tp_python).\n",
    "2. Lancer anaconda-navigator depuis le terminal, puis jupyter notebook ou ipython depuis l'interface graphique\n",
    "3. Option ipython : on peut taper les commandes dans la fenêtre de commande, les programmes étant écrits dans votre éditeur de texte préféré. Option jupyter notebook : le notebook est fait de cellules qui peuvent être des cellules de texte (pour des explications) et des cellules de code (que l’on peut exécuter).\n",
    "Dans les indications données ici, il est implicite que les programmes commencent par"
   ]
  },
  {
   "cell_type": "code",
   "execution_count": 25,
   "metadata": {},
   "outputs": [],
   "source": [
    "import numpy as np\n",
    "import matplotlib.pyplot as plt\n",
    "import scipy.stats as sps"
   ]
  },
  {
   "cell_type": "markdown",
   "metadata": {},
   "source": [
    "On rappelle que l’aide Python pour une fonction appelée ma_fonction s’obtient en tapant : ? ma_fonction dans la console."
   ]
  },
  {
   "cell_type": "markdown",
   "metadata": {},
   "source": [
    "## 1. Prise en main"
   ]
  },
  {
   "cell_type": "markdown",
   "metadata": {},
   "source": [
    "a) On considère n cartes numérotées de 0 à n − 1 et triées par ordre croissant.\n",
    "- on supprime la première carte,\n",
    "- on met la suivante à l’autre extrémité du paquet, \n",
    "- on recommence jusqu’à ce qu’il n’en reste qu’une.\n",
    "Ecrire un programme qui affiche la liste des cartes supprimées dans l’ordre de leurs suppressions, ainsi que la carte restante.\n",
    "*Indication : on utilisera une boucle while et la récursivité n’est pas utile.*"
   ]
  },
  {
   "cell_type": "code",
   "execution_count": null,
   "metadata": {},
   "outputs": [],
   "source": []
  },
  {
   "cell_type": "markdown",
   "metadata": {},
   "source": [
    "b) Soit f définie par $f(x) = sin(x)/x$ si $x\\neq 0$ et $f(0) = 1$. Tracer son graphe sur $[−a,a]$ en \n",
    "rouge, pour $a = 20\\pi$ par exemple. On pourra ajouter un titre et une légende.\n",
    "Indication : $\\pi$ s’obtient avec np.pi, la commande plt.plot(x,y,color=\"r\",label=\"ma legende\") affiche en rouge la courbe affine par morceaux reliant les points d’abscisses x et d’ordonnées y, plt.legend(loc=’best’) affiche la légende définie plus haut avec label (en position optimale) et plt.title(\"mon titre\") donne un titre à la figure."
   ]
  },
  {
   "cell_type": "markdown",
   "metadata": {},
   "source": [
    "## 2. Loi des Grands Nombres et Théorème Central Limite"
   ]
  },
  {
   "cell_type": "markdown",
   "metadata": {},
   "source": [
    "a) Afin d'illustrer la Loi des Grands Nombres, visualiser la suite $S_n = X_1+···+X_n$ pour $X_i$ une suite de variables aléatoires indépendantes de loi uniforme sur $[−1, 1]$.\n",
    "\n",
    "*Indication : pour $x= [x_1,\\dots ,x_n]$, la commande 'np.cumsum(x)' retourne le vecteur\n",
    "$$[x_1, x_1 +x_2, x_1 +x_2 +x_3,\\dots, x_1 +\\dots+x_n]$$ des sommes cumulées des coordonnées de $x$*."
   ]
  },
  {
   "cell_type": "markdown",
   "metadata": {},
   "source": [
    "b) Faire de même avec des variables aléatoires $Y_i$ de loi de Cauchy, c-à-d de densité \n",
    "$$\\frac 1 \\pi \\frac 1 {1+x^2},$$\n",
    "qui s'obtiennent par $Y_i = \\tan(\\pi X_i /2)$. La suite $\\frac {\\sum Y_i}{n}$ semble t-elle converger ? Pourquoi ?"
   ]
  },
  {
   "cell_type": "markdown",
   "metadata": {},
   "source": [
    "c) Calculer la moyenne $\\mu$ et l'écart-type $\\sigma$ des $X_i$ et vérifier, afin d'illustrer le Théorème Central Limite, que $\\sqrt{n}(S_n − \\mu)/\\sigma$ converge en loi, lorsque $n \\rightarrow\\infty$ vers $\\mathcal{N}(0,1)$ : on se fixera une grande valeur de $n$, on simulera un grand nombre de fois $\\sqrt{n}(S_n − \\mu)/\\sigma$, on en tracera l'histogramme et on le comparera à la densité $\\frac 1 {\\sqrt{2\\pi}\\sigma}e^{-x^2/2}$ de $\\mathcal{N}(0,1)$.\n",
    "     \n",
    "*Indication : pour $x$ un tableau bidimensionnel de taille $n × p$, np.sum(x,axis=1) donne le tableau unidimensionnel de taille $n$ dont les coordonnées sont les sommes des lignes de $x$.*"
   ]
  },
  {
   "cell_type": "markdown",
   "metadata": {},
   "source": [
    "## 3. Lois continues"
   ]
  },
  {
   "cell_type": "markdown",
   "metadata": {},
   "source": [
    "Dans ces exercices, on se propose d’identifier la loi d’une variable aléatoire $X$ en traçant l'histogramme d'un grand nombre, $X_1, . . . , X_n$, de réalisations indépendantes de $X$ et en le comparant à la densité supposée de $X$. On rappelle qu'un histogramme d'un échantillon est un diagramme en colonnes exprimant la répartition des valeurs de cet échantillon dans divers intervalles (la renormalisation est faite de façon à ce que l’aire totale vaille 1). \n",
    "\n",
    "**Commande Python** :\n",
    "        \n",
    "        plt.hist(mon-echantillon,bins=mon-nombre-de-colonnes,density=1)\n",
    "\n",
    "On peut aussi remplacer le paramètre mon-nombre-de-colonnes par le vecteur des abscisses (ordonnées dans l’ordre croissant) des bases des colonnes.\n",
    "\n",
    "a) Soient $X$ et $Y$ des variables aléatoires de loi uniforme sur $[−1, 1]$ indépendantes. Illustrer,\n",
    "via un histogramme, le fait que $X + Y$ a pour densité $\\rho(x) := \\frac 1 4 \\max(2 − |x|, 0)$.\n",
    "*Indication : utiliser np.random.rand pour simuler $X$ et $Y$.*"
   ]
  },
  {
   "cell_type": "markdown",
   "metadata": {},
   "source": [
    "b) Soient $X$ et $Y$ des variables aléatoires de loi exponentielle de paramètre 1, indépendantes. Illustrer, via un histogramme, le fait que $X + Y$ a pour densité $\\mathbf{1}_{x\\geq 0}xe^{−x}$.\n",
    "\n",
    "*Indication : utiliser np.random.exponential*"
   ]
  },
  {
   "cell_type": "markdown",
   "metadata": {},
   "source": [
    "c) Illustrer la propriété d'absence de mémoire des lois exponentielles : si $X$ suit une loi exponentielle, alors pour tout $t > 0$, la loi de $X − t$ sachant que $X > t$ est la loi de $X$ (c'est la raison pour laquelle on utilise ces lois pour modéliser les durées de vie de composants sans usure).\n",
    "\n",
    "*Indication : pour $X$ vecteur de type numpy, $X[X>t]$ est le vecteur $X$ dans lequel on n'a gardé que les coordonnées plus grandes que $t$*."
   ]
  },
  {
   "cell_type": "markdown",
   "metadata": {},
   "source": [
    "## 4. Lois discrètes\n",
    "\n",
    "Un calcul simple montre que lorsque $n$ tend vers l’infini, la loi de binomiale $B(n, \\lambda/n)$ tend vers la loi de Poisson de paramètre $\\lambda$. En pratique, on assimile $B(n, p)$ à la loi de Poisson de paramètre $np$ dès que $np^2 < 0.1$. Illustrer cette proximité de lois en affichant, sur le même graphique, leurs histogrammes en bâtons (sans faire aucune simulation). \n",
    "\n",
    "*Indication : les fonctions sps.poisson.pmf et sps.binom.pmf donnent les probabilités associées aux différentes valeurs que peuvent prendre des variables aléatoires de loi de Poisson et de loi binomiale, la fonction plt.stem(x, y) affiche des barres verticales d’abs. x et hauteur y*.\n"
   ]
  }
 ],
 "metadata": {
  "kernelspec": {
   "display_name": "Python 3",
   "language": "python",
   "name": "python3"
  },
  "language_info": {
   "codemirror_mode": {
    "name": "ipython",
    "version": 3
   },
   "file_extension": ".py",
   "mimetype": "text/x-python",
   "name": "python",
   "nbconvert_exporter": "python",
   "pygments_lexer": "ipython3",
   "version": "3.7.3"
  }
 },
 "nbformat": 4,
 "nbformat_minor": 2
}
