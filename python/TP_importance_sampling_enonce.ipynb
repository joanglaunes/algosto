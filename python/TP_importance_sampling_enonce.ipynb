{
 "cells": [
  {
   "cell_type": "markdown",
   "metadata": {},
   "source": [
    "$\\newcommand{\\si}{\\sigma}\n",
    "\\newcommand{\\al}{\\alpha}\n",
    "\\newcommand{\\tta}{\\theta}\n",
    "\\newcommand{\\Tta}{\\Theta}\n",
    "\\newcommand{\\Si}{\\Sigma}\n",
    "\\newcommand{\\ld}{\\ldots}\n",
    "\\newcommand{\\cd}{\\cdots}\n",
    "\\newcommand{\\Ga}{\\Gamma} \n",
    "\\newcommand{\\bet}{\\beta}\n",
    "\\newcommand{\\cU}{\\mathcal{U}}\n",
    "\\newcommand{\\cN}{\\mathcal{N}}\n",
    "\\newcommand{\\R}{\\mathbb{R}}\n",
    "\\newcommand{\\p}{\\mathbb{P}}\n",
    "\\newcommand{\\f}{\\frac}\n",
    "\\newcommand{\\ff}{\\frac{1}}\n",
    "\\newcommand{\\ds}{\\displaystyle}\n",
    "\\newcommand{\\bE}{\\mathbf{E}}\n",
    "\\newcommand{\\E}{\\mathbb{E}}\n",
    "\\newcommand{\\bF}{\\mathbf{F}}\n",
    "\\newcommand{\\ii}{\\mathrm{i}}\n",
    "\\newcommand{\\me}{\\mathrm{e}}\n",
    "\\newcommand{\\hsi}{\\hat{\\sigma}}\n",
    "\\newcommand{\\hmu}{\\hat{\\mu}}\n",
    "\\newcommand{\\ste}{\\, ;\\, }\n",
    "\\newcommand{\\op}{\\operatorname} \n",
    "\\newcommand{\\argmax}{\\op{argmax}}\n",
    "\\newcommand{\\lfl}{\\lfloor}\n",
    "\\newcommand{\\ri}{\\right}\n",
    "\\newcommand{\\supp}{\\operatorname{supp}}$\n",
    "\n",
    "<a href=\"https://colab.research.google.com/github/joanglaunes/algosto/blob/master/python/TP_importance_sampling_enonce.ipynb\" target=\"_parent\"><img src=\"https://colab.research.google.com/assets/colab-badge.svg\" alt=\"Open In Colab\"/></a>\n",
    "\n",
    "# Echantillonnage préférentiel (*importance sampling*)\n",
    "\n",
    "\n",
    "## Exercice 1\n",
    "\n",
    "On souhaite calculer numériquement l'intégrale \n",
    "$$\\int_0^{10} e^{-2|x-5|}dx.$$\n",
    "Une première manière de faire est d'écrire cette intégrale comme \n",
    "$$10\\E[g(X)]$$\n",
    "avec $g(x) = e^{-2|x-5|}$ et avec $X$ de loi uniforme sur $[0,10]$. \n",
    "\n",
    "1. Utilisez la méthode de Monte-Carlo pour approcher l'intégrale précédente : tirez $N$ réalisations indépendantes $x_1\\dots x_N$ d'une loi uniforme sur $[0,10]$ et l'approximation est donnée par \n",
    "$$10 \\frac 1 N \\sum_{i=1}^N e^{-2|x_i-5|}.$$"
   ]
  },
  {
   "cell_type": "code",
   "execution_count": 7,
   "metadata": {},
   "outputs": [],
   "source": [
    "import numpy as np\n",
    "import matplotlib.pyplot as plt"
   ]
  },
  {
   "cell_type": "code",
   "execution_count": 8,
   "metadata": {},
   "outputs": [
    {
     "data": {
      "text/plain": [
       "[<matplotlib.lines.Line2D at 0x114110630>]"
      ]
     },
     "execution_count": 8,
     "metadata": {},
     "output_type": "execute_result"
    },
    {
     "data": {
      "image/png": "[encoded data removed]",
      "text/plain": [
       "<Figure size 432x288 with 1 Axes>"
      ]
     },
     "metadata": {
      "needs_background": "light"
     },
     "output_type": "display_data"
    }
   ],
   "source": [
    "x = np.linspace(1,10,100)\n",
    "def g(x):\n",
    "    return np.exp(-2*np.abs(x-5))\n",
    "plt.plot(x,g(x))"
   ]
  },
  {
   "cell_type": "markdown",
   "metadata": {},
   "source": [
    "Cependant, la fonction $g$ atteint son maximum en $x=5$ et décroît\n",
    "rapidement après, il est\n",
    "donc sans doute plus malin d'utiliser une fonction d'échantillonnage\n",
    "préférentiel gaussienne $f_Y$ centrée en 5 et de variance 1 (par exemple). On réécrit donc  \n",
    "$$\\int_0^{10} e^{-2|x-5|}dx = \\int \\mathbf{1}_{[0,10]}(x)\n",
    "\\frac{e^{-2|x-5|}}{\\frac{1}{\\sqrt{2\\pi}}e^{-(x-5)^2/2}}\\frac{1}{\\sqrt{2\\pi}}e^{-(x-5)^2/2}dx\n",
    "= \\E[\\frac{g(Y)}{f_Y(Y)}  \\mathbf{1}_{[0,10]}(Y)],$$\n",
    "avec $f_Y(x) = \\frac 1 {\\sqrt{2\\pi} }e^{-(x-5)^2/2} $ et $Y$ de loi gaussienne $\\mathcal{N}(5,1)$.\n",
    "\n",
    "Pour calculer l'intégrale précédente, on tire donc $N$ réalisations indépendantes $x_1\\dots x_N$ d'une loi $\\mathcal{N}(5,1)$ et l'approximation est donnée par \n",
    "$$ \\frac 1 N \\sum_{i=1}^N \\sqrt{2\\pi}e^{+(y_i-5)^2/2}e^{-2|y_i-5|} \\times \\mathbf{1}_{[0,10]}(y_i).$$\n",
    "\n",
    "2. Utilisez cette nouvelle approche pour calculer l'intégrale et comparer les variances et vitesses de convergence des deux approches. "
   ]
  },
  {
   "cell_type": "markdown",
   "metadata": {},
   "source": [
    "## Exercice 2\n",
    "\n",
    "On souhaite calculer \n",
    "$$\\int_{-\\infty}^{+\\infty} x^2 \\frac 1 2 e^{-|x|}dx,$$\n",
    "mais on ne sait pas échantillonner suivant la densité $p(x) = \\frac 1 2 e^{-|x|}dx$.\n",
    "\n",
    "Réécrire cette intégrale à l'aide d'une fonction d'échantillonnage préférentiel gaussienne de $\\cN(0,4)$ et estimer sa valeur par une méthode de MOnte-Carlo. "
   ]
  }
 ],
 "metadata": {
  "kernelspec": {
   "display_name": "Python 3",
   "language": "python",
   "name": "python3"
  },
  "language_info": {
   "codemirror_mode": {
    "name": "ipython",
    "version": 3
   },
   "file_extension": ".py",
   "mimetype": "text/x-python",
   "name": "python",
   "nbconvert_exporter": "python",
   "pygments_lexer": "ipython3",
   "version": "3.8.5"
  }
 },
 "nbformat": 4,
 "nbformat_minor": 2
}
